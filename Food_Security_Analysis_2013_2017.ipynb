{
 "cells": [
  {
   "cell_type": "markdown",
   "id": "e7316a32",
   "metadata": {},
   "source": [
    "<div style=\" background-color: RGB(0,114,200);\" >\n",
    "<h1 style=\"margin: auto; padding: 20px 0; color:#fff; text-align: center\">PROJET 4 DATA ANALYST</h1>\n",
    "<h2 style=\"margin: auto; padding: 20px 0; color:#fff; text-align: center\">Réalisez une étude de santé publique avec R ou Python\n",
    "</h2>\n",
    "</div>"
   ]
  },
  {
   "cell_type": "markdown",
   "id": "6e00fa8a",
   "metadata": {},
   "source": [
    "# OBJECTIF DE CE NOTEBOOK\n",
    "\n",
    "Bienvenue dans l'outil plébiscité par les analystes de données Jupyter.\n",
    "\n",
    "Il s'agit d'un outil permettant de mixer et d'alterner codes, textes et graphique.\n",
    "\n",
    "Cet outil est formidable pour plusieurs raisons:\n",
    "\n",
    "+ il permet de tester des lignes de codes au fur et à mesure de votre rédaction, de constater immédiatement le résultat d'un instruction, de la corriger si nécessaire.\n",
    "+ De rédiger du texte pour expliquer l'approche suivie ou les résultats d'une analyse et de le mettre en forme grâce à du code html ou plus simple avec **Markdown**\n",
    "+ d'agrémenter de graphiques\n",
    "\n",
    "Pour vous aider dans vos premiers pas à l'usage de Jupyter et de Python, nous avons rédigé ce notebook en vous indiquant les instructions à suivre.\n",
    "\n",
    "Il vous suffit pour cela de saisir le code Python répondant à l'instruction donnée.\n",
    "\n",
    "Vous verrez de temps à autre le code Python répondant à une instruction donnée mais cela est fait pour vous aider à comprendre la nature du travail qui vous est demandée.\n",
    "\n",
    "Et garder à l'esprit, qu'il n'y a pas de solution unique pour résoudre un problème et qu'il y a autant de résolutions de problèmes que de développeurs ;)...\n",
    "\n"
   ]
  },
  {
   "cell_type": "markdown",
   "id": "9dad8326",
   "metadata": {},
   "source": [
    "<div style=\"background-color: RGB(0,150,250);\" >\n",
    "<h2 style=\"margin: auto; padding: 20px; color:#fff; \">Etape 1 - Importation des librairies et chargement des fichiers</h2>\n",
    "</div>"
   ]
  },
  {
   "cell_type": "markdown",
   "id": "4ee69457",
   "metadata": {},
   "source": [
    "<div style=\"border: 1px solid RGB(0,150,250);\" >\n",
    "<h3 style=\"margin: auto; padding: 20px; color: RGB(0,150,250); \">1.1 - Importation des librairies</h3>\n",
    "</div>"
   ]
  },
  {
   "cell_type": "code",
   "execution_count": 2,
   "id": "ffe62b56",
   "metadata": {},
   "outputs": [],
   "source": [
    "# Importation de la librairie Pandas\n",
    "import pandas as pd"
   ]
  },
  {
   "cell_type": "markdown",
   "id": "8bd8e7ed",
   "metadata": {},
   "source": [
    "<div style=\"border: 1px solid RGB(0,150,250);\" >\n",
    "<h3 style=\"margin: auto; padding: 20px; color: RGB(0,150,250); \">1.2 - Chargement des fichiers Excel</h3>\n",
    "</div>"
   ]
  },
  {
   "cell_type": "code",
   "execution_count": 4,
   "id": "b304f108",
   "metadata": {},
   "outputs": [],
   "source": [
    "#Importation du fichier population.csv\n",
    "population = pd.read_csv(\"data/population.csv\")\n",
    "\n",
    "#Importation du fichier dispo_alimentaire.csv\n",
    "dispo = pd.read_csv(\"data/dispo_alimentaire.csv\")\n",
    "\n",
    "#Importation du fichier aide_alimentaire.csv\n",
    "aide = pd.read_csv(\"data/aide_alimentaire.csv\")\n",
    "\n",
    "#Importation du fichier sous_nutrition.csv\n",
    "sous_nutrition = pd.read_csv(\"data/sous_nutrition.csv\")"
   ]
  },
  {
   "cell_type": "markdown",
   "id": "1249847a",
   "metadata": {},
   "source": [
    "<div style=\"background-color: RGB(0,150,250);\" >\n",
    "<h2 style=\"margin: auto; padding: 20px; color:#fff; \">Etape 2 - Analyse exploratoire des fichiers</h2>\n",
    "</div>"
   ]
  },
  {
   "cell_type": "markdown",
   "id": "235e6e91",
   "metadata": {},
   "source": [
    "<div style=\"border: 1px solid RGB(0,150,250);\" >\n",
    "<h3 style=\"margin: auto; padding: 20px; color: RGB(0,150,250); \">2.1 - Analyse exploratoire du fichier population</h3>\n",
    "</div>"
   ]
  },
  {
   "cell_type": "code",
   "execution_count": 5,
   "id": "e6b639d2",
   "metadata": {},
   "outputs": [
    {
     "name": "stdout",
     "output_type": "stream",
     "text": [
      "Le tableau comporte 1416 observation(s) ou article(s)\n",
      "Le tableau comporte 3 colonne(s)\n"
     ]
    }
   ],
   "source": [
    "#Afficher les dimensions du dataset\n",
    "print(\"Le tableau comporte {} observation(s) ou article(s)\".format(population.shape[0]))\n",
    "print(\"Le tableau comporte {} colonne(s)\".format(population.shape[1]))"
   ]
  },
  {
   "cell_type": "code",
   "execution_count": null,
   "id": "fbbdfd5c",
   "metadata": {},
   "outputs": [
    {
     "name": "stdout",
     "output_type": "stream",
     "text": [
      "\n",
      "Population :\n",
      "<class 'pandas.core.frame.DataFrame'>\n",
      "RangeIndex: 1416 entries, 0 to 1415\n",
      "Data columns (total 3 columns):\n",
      " #   Column  Non-Null Count  Dtype  \n",
      "---  ------  --------------  -----  \n",
      " 0   Zone    1416 non-null   object \n",
      " 1   Année   1416 non-null   int64  \n",
      " 2   Valeur  1416 non-null   float64\n",
      "dtypes: float64(1), int64(1), object(1)\n",
      "memory usage: 33.3+ KB\n",
      "None\n",
      "             Année        Valeur\n",
      "count  1416.000000  1.416000e+03\n",
      "mean   2015.500000  3.144793e+04\n",
      "std       1.708428  1.300812e+05\n",
      "min    2013.000000  7.930000e-01\n",
      "25%    2014.000000  3.783410e+02\n",
      "50%    2015.500000  5.126480e+03\n",
      "75%    2017.000000  1.930666e+04\n",
      "max    2018.000000  1.427648e+06\n",
      "\n",
      "Disponibilité alimentaire :\n",
      "<class 'pandas.core.frame.DataFrame'>\n",
      "RangeIndex: 15605 entries, 0 to 15604\n",
      "Data columns (total 18 columns):\n",
      " #   Column                                                         Non-Null Count  Dtype  \n",
      "---  ------                                                         --------------  -----  \n",
      " 0   Zone                                                           15605 non-null  object \n",
      " 1   Produit                                                        15605 non-null  object \n",
      " 2   Origine                                                        15605 non-null  object \n",
      " 3   Aliments pour animaux                                          2720 non-null   float64\n",
      " 4   Autres Utilisations                                            5496 non-null   float64\n",
      " 5   Disponibilité alimentaire (Kcal/personne/jour)                 14241 non-null  float64\n",
      " 6   Disponibilité alimentaire en quantité (kg/personne/an)         14015 non-null  float64\n",
      " 7   Disponibilité de matière grasse en quantité (g/personne/jour)  11794 non-null  float64\n",
      " 8   Disponibilité de protéines en quantité (g/personne/jour)       11561 non-null  float64\n",
      " 9   Disponibilité intérieure                                       15382 non-null  float64\n",
      " 10  Exportations - Quantité                                        12226 non-null  float64\n",
      " 11  Importations - Quantité                                        14852 non-null  float64\n",
      " 12  Nourriture                                                     14015 non-null  float64\n",
      " 13  Pertes                                                         4278 non-null   float64\n",
      " 14  Production                                                     9180 non-null   float64\n",
      " 15  Semences                                                       2091 non-null   float64\n",
      " 16  Traitement                                                     2292 non-null   float64\n",
      " 17  Variation de stock                                             6776 non-null   float64\n",
      "dtypes: float64(15), object(3)\n",
      "memory usage: 2.1+ MB\n",
      "None\n",
      "       Aliments pour animaux  Autres Utilisations  \\\n",
      "count            2720.000000          5496.000000   \n",
      "mean              479.501838           157.391376   \n",
      "std              4240.119637          5076.785816   \n",
      "min                 0.000000             0.000000   \n",
      "25%                 0.000000             0.000000   \n",
      "50%                 4.000000             0.000000   \n",
      "75%                74.000000             4.000000   \n",
      "max            150000.000000        347309.000000   \n",
      "\n",
      "       Disponibilité alimentaire (Kcal/personne/jour)  \\\n",
      "count                                    14241.000000   \n",
      "mean                                        34.789832   \n",
      "std                                        107.287655   \n",
      "min                                        -21.000000   \n",
      "25%                                          0.000000   \n",
      "50%                                          4.000000   \n",
      "75%                                         21.000000   \n",
      "max                                       1711.000000   \n",
      "\n",
      "       Disponibilité alimentaire en quantité (kg/personne/an)  \\\n",
      "count                                       14015.000000        \n",
      "mean                                            8.719368        \n",
      "std                                            24.618223        \n",
      "min                                            -1.930000        \n",
      "25%                                             0.060000        \n",
      "50%                                             0.830000        \n",
      "75%                                             5.190000        \n",
      "max                                           430.760000        \n",
      "\n",
      "       Disponibilité de matière grasse en quantité (g/personne/jour)  \\\n",
      "count                                       11794.000000               \n",
      "mean                                            1.283111               \n",
      "std                                             3.680399               \n",
      "min                                            -0.030000               \n",
      "25%                                             0.010000               \n",
      "50%                                             0.080000               \n",
      "75%                                             0.630000               \n",
      "max                                            60.760000               \n",
      "\n",
      "       Disponibilité de protéines en quantité (g/personne/jour)  \\\n",
      "count                                       11561.000000          \n",
      "mean                                            1.223608          \n",
      "std                                             3.598686          \n",
      "min                                            -0.370000          \n",
      "25%                                             0.010000          \n",
      "50%                                             0.100000          \n",
      "75%                                             0.660000          \n",
      "max                                            54.970000          \n",
      "\n",
      "       Disponibilité intérieure  Exportations - Quantité  \\\n",
      "count              15382.000000             12226.000000   \n",
      "mean                 640.293460               110.596925   \n",
      "std                 9067.267153              1053.318990   \n",
      "min                -3430.000000               -41.000000   \n",
      "25%                    0.000000                 0.000000   \n",
      "50%                    7.000000                 0.000000   \n",
      "75%                   76.750000                 9.000000   \n",
      "max               739267.000000             42797.000000   \n",
      "\n",
      "       Importations - Quantité     Nourriture        Pertes     Production  \\\n",
      "count             14852.000000   14015.000000   4278.000000    9180.000000   \n",
      "mean                 87.264543     347.931359    106.053763    1090.379085   \n",
      "std                 717.372714    4475.704458   1113.100416   12067.344094   \n",
      "min                -201.000000    -246.000000      0.000000       0.000000   \n",
      "25%                   0.000000       0.000000      0.000000       2.000000   \n",
      "50%                   2.000000       5.000000      4.000000      22.000000   \n",
      "75%                  18.000000      52.000000     26.000000     191.250000   \n",
      "max               63381.000000  426850.000000  55047.000000  739267.000000   \n",
      "\n",
      "           Semences     Traitement  Variation de stock  \n",
      "count   2091.000000    2292.000000         6776.000000  \n",
      "mean      73.974653     961.905323          -15.407615  \n",
      "std      528.069224   10381.795904          549.834540  \n",
      "min        0.000000     -19.000000       -39863.000000  \n",
      "25%        0.000000       0.000000            0.000000  \n",
      "50%        2.000000       6.000000            0.000000  \n",
      "75%       17.000000      69.000000            0.000000  \n",
      "max    17060.000000  326711.000000         5284.000000  \n",
      "\n",
      "Aide alimentaire :\n",
      "<class 'pandas.core.frame.DataFrame'>\n",
      "RangeIndex: 1475 entries, 0 to 1474\n",
      "Data columns (total 4 columns):\n",
      " #   Column             Non-Null Count  Dtype \n",
      "---  ------             --------------  ----- \n",
      " 0   Pays bénéficiaire  1475 non-null   object\n",
      " 1   Année              1475 non-null   int64 \n",
      " 2   Produit            1475 non-null   object\n",
      " 3   Valeur             1475 non-null   int64 \n",
      "dtypes: int64(2), object(2)\n",
      "memory usage: 46.2+ KB\n",
      "None\n",
      "             Année         Valeur\n",
      "count  1475.000000    1475.000000\n",
      "mean   2014.054237    7481.966780\n",
      "std       0.946916   23339.531424\n",
      "min    2013.000000       0.000000\n",
      "25%    2013.000000     287.500000\n",
      "50%    2014.000000    1178.000000\n",
      "75%    2015.000000    4334.500000\n",
      "max    2016.000000  265013.000000\n",
      "\n",
      "Sous-nutrition :\n",
      "<class 'pandas.core.frame.DataFrame'>\n",
      "RangeIndex: 1218 entries, 0 to 1217\n",
      "Data columns (total 3 columns):\n",
      " #   Column  Non-Null Count  Dtype \n",
      "---  ------  --------------  ----- \n",
      " 0   Zone    1218 non-null   object\n",
      " 1   Année   1218 non-null   object\n",
      " 2   Valeur  624 non-null    object\n",
      "dtypes: object(3)\n",
      "memory usage: 28.7+ KB\n",
      "None\n",
      "               Zone      Année Valeur\n",
      "count          1218       1218    624\n",
      "unique          203          6    139\n",
      "top     Afghanistan  2012-2014   <0.1\n",
      "freq              6        203    120\n"
     ]
    }
   ],
   "source": [
    "#Consulter le nombre de colonnes\n",
    "#La nature des données dans chacune des colonnes\n",
    "#Le nombre de valeurs présentes dans chacune des colonnes\n",
    "\n",
    "#Informations sur le fichier population.csv\n",
    "print(\"\\nPopulation :\")\n",
    "\n",
    "print(population.describe())\n",
    "\n",
    "#Informations sur dispo_alimentaire.csv\n",
    "print(\"\\nDisponibilité alimentaire :\")\n",
    "print(dispo.info())\n",
    "print(dispo.describe())\n",
    "\n",
    "#Informations sur aide_alimentaire.csv\n",
    "print(\"\\nAide alimentaire :\")\n",
    "print(aide.info())\n",
    "print(aide.describe())\n",
    "\n",
    "#Informations sur sous_nutrition.csv\n",
    "print(\"\\nSous-nutrition :\")\n",
    "print(sous_nutrition.info())\n",
    "print(sous_nutrition.describe())"
   ]
  },
  {
   "cell_type": "code",
   "execution_count": null,
   "id": "3e50d9e6",
   "metadata": {},
   "outputs": [],
   "source": [
    "#Affichage les 5 premières lignes de la table\n",
    "\n",
    "#Affichage du fichier population.csv\n",
    "print(\"Population :\")\n",
    "display(population.head())\n",
    "\n",
    "#Affichage du fichier dispo_alimentaire.csv\n",
    "print(\"Disponibilité alimentaire :\")\n",
    "display(dispo.head())\n",
    "\n",
    "#Affichage du fichier aide_alimentaire.csv\n",
    "print(\"Aide alimentaire :\")\n",
    "display(aide.head())\n",
    "\n",
    "#Affichage du fichier sous_nutrition.csv\n",
    "print(\"Sous-nutrition :\")\n",
    "display(sous_nutrition.head())"
   ]
  },
  {
   "cell_type": "code",
   "execution_count": null,
   "id": "ab1a4af4",
   "metadata": {},
   "outputs": [],
   "source": [
    "#Nous allons harmoniser les unités. Pour cela, nous avons décidé de multiplier la population par 1000\n",
    "\n",
    "#Multiplication de la colonne valeur par 1000\n",
    "population[\"Valeur\"] = population[\"Valeur\"] * 1000\n",
    "display(population.head())"
   ]
  },
  {
   "cell_type": "code",
   "execution_count": null,
   "id": "38836b61",
   "metadata": {},
   "outputs": [],
   "source": [
    "#Changement du nom de la colonne Valeur par Population\n",
    "population = population.rename(columns={\"Valeur\": \"Population\"})"
   ]
  },
  {
   "cell_type": "code",
   "execution_count": null,
   "id": "ff707561",
   "metadata": {},
   "outputs": [],
   "source": [
    "#Affichage les 5 premières lignes de la table pour voir les modifications\n",
    "display(population.head())"
   ]
  },
  {
   "cell_type": "markdown",
   "id": "4224b896",
   "metadata": {},
   "source": [
    "<div style=\"border: 1px solid RGB(0,150,250);\" >\n",
    "<h3 style=\"margin: auto; padding: 20px; color: RGB(0,150,250); \">2.2 - Analyse exploratoire du fichier disponibilité alimentaire</h3>\n",
    "</div>"
   ]
  },
  {
   "cell_type": "code",
   "execution_count": null,
   "id": "38f5b838",
   "metadata": {},
   "outputs": [],
   "source": [
    "#Afficher les dimensions du dataset\n",
    "print(\"Dimensions du dataset :\", dispo.shape)"
   ]
  },
  {
   "cell_type": "code",
   "execution_count": null,
   "id": "99735a22",
   "metadata": {},
   "outputs": [],
   "source": [
    "#Consulter le nombre de colonnes\n",
    "print(\"\\nInfos sur les colonnes :\")\n",
    "print(dispo.info())"
   ]
  },
  {
   "cell_type": "code",
   "execution_count": null,
   "id": "0058032d",
   "metadata": {},
   "outputs": [],
   "source": [
    "#Affichage les 5 premières lignes de la table\n",
    "print(\"\\nAperçu du dataset :\")\n",
    "display(dispo.head())"
   ]
  },
  {
   "cell_type": "code",
   "execution_count": null,
   "id": "f3832569",
   "metadata": {},
   "outputs": [],
   "source": [
    "#Remplacement des NaN dans le dataset par des 0\n",
    "dispo = dispo.fillna(0)\n",
    "print(\"\\nAprès remplacement des NaN par 0 :\")\n",
    "display(dispo.head())"
   ]
  },
  {
   "cell_type": "code",
   "execution_count": null,
   "id": "db4432e3",
   "metadata": {},
   "outputs": [],
   "source": [
    "#Multiplication de toutes les lignes contenant des milliers de tonnes en Kg\n",
    "colonnes_tonnes = [\n",
    "    \"Disponibilité intérieure\",\n",
    "    \"Aliments pour animaux\",\n",
    "    \"Semences\",\n",
    "    \"Pertes\",\n",
    "    \"Transformations\",\n",
    "    \"Exportations\",\n",
    "    \"Nourriture\",\n",
    "    \"Autres utilisations\"\n",
    "]\n",
    "\n",
    "for col in colonnes_tonnes:\n",
    "    if col in dispo.columns:\n",
    "        dispo[col] = dispo[col] * 1000"
   ]
  },
  {
   "cell_type": "code",
   "execution_count": null,
   "id": "7f1689bf",
   "metadata": {},
   "outputs": [],
   "source": [
    "#Affichage les 5 premières lignes de la table\n",
    "print(\"\\nDataset après conversion en kg :\")\n",
    "display(dispo.head())"
   ]
  },
  {
   "cell_type": "markdown",
   "id": "a09233e4",
   "metadata": {},
   "source": [
    "<div style=\"border: 1px solid RGB(0,150,250);\" >\n",
    "<h3 style=\"margin: auto; padding: 20px; color: RGB(0,150,250); \">2.3 - Analyse exploratoire du fichier aide alimentaire</h3>\n",
    "</div>"
   ]
  },
  {
   "cell_type": "code",
   "execution_count": null,
   "id": "702f6322",
   "metadata": {},
   "outputs": [],
   "source": [
    "#Afficher les dimensions du dataset\n"
   ]
  },
  {
   "cell_type": "code",
   "execution_count": null,
   "id": "8fead3f9",
   "metadata": {},
   "outputs": [],
   "source": [
    "#Consulter le nombre de colonnes\n"
   ]
  },
  {
   "cell_type": "code",
   "execution_count": null,
   "id": "443ec245",
   "metadata": {},
   "outputs": [],
   "source": [
    "#Affichage les 5 premières lignes de la table\n"
   ]
  },
  {
   "cell_type": "code",
   "execution_count": null,
   "id": "af47212b",
   "metadata": {},
   "outputs": [],
   "source": [
    "#Changement du nom de la colonne Pays bénéficiaire par Zone\n"
   ]
  },
  {
   "cell_type": "code",
   "execution_count": null,
   "id": "c32cd1d8",
   "metadata": {},
   "outputs": [],
   "source": [
    "#Multiplication de la colonne Aide_alimentaire qui contient des tonnes par 1000 pour avoir des kg\n"
   ]
  },
  {
   "cell_type": "code",
   "execution_count": null,
   "id": "d951d8df",
   "metadata": {},
   "outputs": [],
   "source": [
    "#Affichage les 5 premières lignes de la table\n"
   ]
  },
  {
   "cell_type": "markdown",
   "id": "eeae9043",
   "metadata": {},
   "source": [
    "<div style=\"border: 1px solid RGB(0,150,250);\" >\n",
    "<h3 style=\"margin: auto; padding: 20px; color: RGB(0,150,250); \">2.3 - Analyse exploratoire du fichier sous nutrition</h3>\n",
    "</div>"
   ]
  },
  {
   "cell_type": "code",
   "execution_count": null,
   "id": "882add3d",
   "metadata": {},
   "outputs": [],
   "source": [
    "#Afficher les dimensions du dataset\n"
   ]
  },
  {
   "cell_type": "code",
   "execution_count": null,
   "id": "70c1a7a9",
   "metadata": {},
   "outputs": [],
   "source": [
    "#Consulter le nombre de colonnes\n"
   ]
  },
  {
   "cell_type": "code",
   "execution_count": null,
   "id": "5c6469e5",
   "metadata": {},
   "outputs": [],
   "source": [
    "#Afficher les 5 premières lignes de la table\n"
   ]
  },
  {
   "cell_type": "code",
   "execution_count": null,
   "id": "11b6a6c8",
   "metadata": {},
   "outputs": [],
   "source": [
    "#Conversion de la colonne sous nutrition en numérique\n",
    "sous_nutrition['Valeur'] = pd.to_numeric(sous_nutrition['Valeur'])"
   ]
  },
  {
   "cell_type": "code",
   "execution_count": null,
   "id": "d31d2724",
   "metadata": {},
   "outputs": [],
   "source": [
    "#Conversion de la colonne (avec l'argument errors=coerce qui permet de convertir automatiquement les lignes qui ne sont pas des nombres en NaN)\n",
    "#Puis remplacement des NaN en 0\n"
   ]
  },
  {
   "cell_type": "code",
   "execution_count": null,
   "id": "34c98232",
   "metadata": {},
   "outputs": [],
   "source": [
    "#changement du nom de la colonne Valeur par sous_nutrition\n"
   ]
  },
  {
   "cell_type": "code",
   "execution_count": null,
   "id": "002110fa",
   "metadata": {},
   "outputs": [],
   "source": [
    "#Multiplication de la colonne sous_nutrition par 1000000\n"
   ]
  },
  {
   "cell_type": "code",
   "execution_count": null,
   "id": "58259b55",
   "metadata": {},
   "outputs": [],
   "source": [
    "#Afficher les 5 premières lignes de la table\n"
   ]
  },
  {
   "cell_type": "markdown",
   "id": "df6dcabd",
   "metadata": {},
   "source": [
    "<div style=\"border: 1px solid RGB(0,150,250);\" >\n",
    "<h3 style=\"margin: auto; padding: 20px; color: RGB(0,150,250); \">3.1 - Proportion de personnes en sous nutrition</h3>\n",
    "</div>"
   ]
  },
  {
   "cell_type": "code",
   "execution_count": null,
   "id": "a63e1567",
   "metadata": {},
   "outputs": [],
   "source": [
    "# Il faut tout d'abord faire une jointure entre la table population et la table sous nutrition, en ciblant l'année 2017\n"
   ]
  },
  {
   "cell_type": "code",
   "execution_count": null,
   "id": "731eea39",
   "metadata": {},
   "outputs": [],
   "source": [
    "#Affichage du dataset\n"
   ]
  },
  {
   "cell_type": "code",
   "execution_count": null,
   "id": "28e2741f",
   "metadata": {},
   "outputs": [],
   "source": [
    "#Calcul et affichage du nombre de personnes en état de sous nutrition\n"
   ]
  },
  {
   "cell_type": "markdown",
   "id": "b4134a24",
   "metadata": {},
   "source": [
    "<div style=\"border: 1px solid RGB(0,150,250);\" >\n",
    "<h3 style=\"margin: auto; padding: 20px; color: RGB(0,150,250); \">3.2 - Nombre théorique de personne qui pourrait être nourries</h3>\n",
    "</div>"
   ]
  },
  {
   "cell_type": "code",
   "execution_count": null,
   "id": "2b63df85",
   "metadata": {},
   "outputs": [],
   "source": [
    "#Combien mange en moyenne un être humain ? Source => "
   ]
  },
  {
   "cell_type": "code",
   "execution_count": null,
   "id": "5e3f262d",
   "metadata": {},
   "outputs": [],
   "source": [
    "#On commence par faire une jointure entre le data frame population et Dispo_alimentaire afin d'ajouter dans ce dernier la population\n"
   ]
  },
  {
   "cell_type": "code",
   "execution_count": null,
   "id": "4538126c",
   "metadata": {},
   "outputs": [],
   "source": [
    "#Affichage du nouveau dataframe\n"
   ]
  },
  {
   "cell_type": "code",
   "execution_count": null,
   "id": "5305ba25",
   "metadata": {},
   "outputs": [],
   "source": [
    "#Création de la colonne dispo_kcal avec calcul des kcal disponibles mondialement\n"
   ]
  },
  {
   "cell_type": "code",
   "execution_count": null,
   "id": "a6d4af90",
   "metadata": {},
   "outputs": [],
   "source": [
    "#Calcul du nombre d'humains pouvant être nourris\n"
   ]
  },
  {
   "cell_type": "markdown",
   "id": "e97c8886",
   "metadata": {},
   "source": [
    "<div style=\"border: 1px solid RGB(0,150,250);\" >\n",
    "<h3 style=\"margin: auto; padding: 20px; color: RGB(0,150,250); \">3.3 - Nombre théorique de personne qui pourrait être nourrie avec les produits végétaux</h3>\n",
    "</div>"
   ]
  },
  {
   "cell_type": "code",
   "execution_count": null,
   "id": "c2e3c87c",
   "metadata": {},
   "outputs": [],
   "source": [
    "#Transfert des données avec les végétaux dans un nouveau dataframe\n"
   ]
  },
  {
   "cell_type": "code",
   "execution_count": null,
   "id": "534f3ad7",
   "metadata": {},
   "outputs": [],
   "source": [
    "#Calcul du nombre de kcal disponible pour les végétaux\n"
   ]
  },
  {
   "cell_type": "code",
   "execution_count": null,
   "id": "8c82da41",
   "metadata": {},
   "outputs": [],
   "source": [
    "#Calcul du nombre d'humains pouvant être nourris avec les végétaux\n"
   ]
  },
  {
   "cell_type": "markdown",
   "id": "cd07afb1",
   "metadata": {},
   "source": [
    "<div style=\"border: 1px solid RGB(0,150,250);\" >\n",
    "<h3 style=\"margin: auto; padding: 20px; color: RGB(0,150,250); \">3.4 - Utilisation de la disponibilité intérieure</h3>\n",
    "</div>"
   ]
  },
  {
   "cell_type": "code",
   "execution_count": null,
   "id": "71328746",
   "metadata": {},
   "outputs": [],
   "source": [
    "#Calcul de la disponibilité totale\n"
   ]
  },
  {
   "cell_type": "code",
   "execution_count": null,
   "id": "03248095",
   "metadata": {},
   "outputs": [],
   "source": [
    "#création d'une boucle for pour afficher les différentes valeurs en fonction des colonnes aliments pour animaux, pertes, nourritures, \n"
   ]
  },
  {
   "cell_type": "markdown",
   "id": "141d05df",
   "metadata": {},
   "source": [
    "<div style=\"border: 1px solid RGB(0,150,250);\" >\n",
    "<h3 style=\"margin: auto; padding: 20px; color: RGB(0,150,250); \">3.5 - Utilisation des céréales</h3>\n",
    "</div>"
   ]
  },
  {
   "cell_type": "code",
   "execution_count": null,
   "id": "c27448ff",
   "metadata": {},
   "outputs": [],
   "source": [
    "#Création d'une liste avec toutes les variables\n"
   ]
  },
  {
   "cell_type": "code",
   "execution_count": null,
   "id": "5dc5586d",
   "metadata": {},
   "outputs": [],
   "source": [
    "#Création d'un dataframe avec les informations uniquement pour ces céréales\n"
   ]
  },
  {
   "cell_type": "code",
   "execution_count": null,
   "id": "8365de95",
   "metadata": {},
   "outputs": [],
   "source": [
    "#Affichage de la proportion d'alimentation animale\n"
   ]
  },
  {
   "cell_type": "code",
   "execution_count": null,
   "id": "6f5e93c7",
   "metadata": {},
   "outputs": [],
   "source": [
    "#Affichage de la proportion d'alimentation animale\n"
   ]
  },
  {
   "cell_type": "markdown",
   "id": "a603be79",
   "metadata": {},
   "source": [
    "<div style=\"border: 1px solid RGB(0,150,250);\" >\n",
    "<h3 style=\"margin: auto; padding: 20px; color: RGB(0,150,250); \">3.6 - Pays avec la proportion de personnes sous-alimentée la plus forte en 2017</h3>\n",
    "</div>"
   ]
  },
  {
   "cell_type": "code",
   "execution_count": null,
   "id": "1884c270",
   "metadata": {},
   "outputs": [],
   "source": [
    "#Création de la colonne proportion par pays\n"
   ]
  },
  {
   "cell_type": "code",
   "execution_count": null,
   "id": "25a185b6",
   "metadata": {},
   "outputs": [],
   "source": [
    "#affichage après trie des 10 pires pays\n"
   ]
  },
  {
   "cell_type": "markdown",
   "id": "4f610008",
   "metadata": {},
   "source": [
    "<div style=\"border: 1px solid RGB(0,150,250);\" >\n",
    "<h3 style=\"margin: auto; padding: 20px; color: RGB(0,150,250); \">3.7 - Pays qui ont le plus bénéficié d'aide alimentaire depuis 2013</h3>\n",
    "</div>"
   ]
  },
  {
   "cell_type": "code",
   "execution_count": null,
   "id": "ff1b24a3",
   "metadata": {},
   "outputs": [],
   "source": [
    "#calcul du total de l'aide alimentaire par pays\n"
   ]
  },
  {
   "cell_type": "code",
   "execution_count": null,
   "id": "ee1ac6fb",
   "metadata": {},
   "outputs": [],
   "source": [
    "#affichage après trie des 10 pays qui ont bénéficié le plus de l'aide alimentaire\n"
   ]
  },
  {
   "cell_type": "markdown",
   "id": "a361ce61",
   "metadata": {},
   "source": [
    "<div style=\"border: 1px solid RGB(0,150,250);\" >\n",
    "<h3 style=\"margin: auto; padding: 20px; color: RGB(0,150,250); \">3.8 - Evolution des 5 pays qui ont le plus bénéficiés de l'aide alimentaire entre 2013 et 2016</h3>\n",
    "</div>"
   ]
  },
  {
   "cell_type": "code",
   "execution_count": null,
   "id": "09d55114",
   "metadata": {},
   "outputs": [],
   "source": [
    "#Création d'un dataframe avec la zone, l'année et l'aide alimentaire puis groupby sur zone et année \n"
   ]
  },
  {
   "cell_type": "code",
   "execution_count": null,
   "id": "6bd577b0",
   "metadata": {},
   "outputs": [],
   "source": [
    "#Création d'une liste contenant les 5 pays qui ont le plus bénéficiées de l'aide alimentaire\n"
   ]
  },
  {
   "cell_type": "code",
   "execution_count": null,
   "id": "41612dbd",
   "metadata": {},
   "outputs": [],
   "source": [
    "#On filtre sur le dataframe avec notre liste\n"
   ]
  },
  {
   "cell_type": "code",
   "execution_count": null,
   "id": "5680e72d",
   "metadata": {},
   "outputs": [],
   "source": [
    "# Affichage des pays avec l'aide alimentaire par année\n"
   ]
  },
  {
   "cell_type": "markdown",
   "id": "bd392dac",
   "metadata": {},
   "source": [
    "<div style=\"border: 1px solid RGB(0,150,250);\" >\n",
    "<h3 style=\"margin: auto; padding: 20px; color: RGB(0,150,250); \">3.9 - Pays avec le moins de disponibilité par habitant</h3>\n",
    "</div>"
   ]
  },
  {
   "cell_type": "code",
   "execution_count": null,
   "id": "fb3a378b",
   "metadata": {},
   "outputs": [],
   "source": [
    "#Calcul de la disponibilité en kcal par personne par jour par pays\n"
   ]
  },
  {
   "cell_type": "code",
   "execution_count": null,
   "id": "70c0f689",
   "metadata": {},
   "outputs": [],
   "source": [
    "#Affichage des 10 pays qui ont le moins de dispo alimentaire par personne \n"
   ]
  },
  {
   "cell_type": "markdown",
   "id": "2553ed12",
   "metadata": {},
   "source": [
    "<div style=\"border: 1px solid RGB(0,150,250);\" >\n",
    "<h3 style=\"margin: auto; padding: 20px; color: RGB(0,150,250); \">3.10 - Pays avec le plus de disponibilité par habitant</h3>\n",
    "</div>"
   ]
  },
  {
   "cell_type": "code",
   "execution_count": null,
   "id": "63e835c6",
   "metadata": {},
   "outputs": [],
   "source": [
    "#Affichage des 10 pays qui ont le plus de dispo alimentaire par personne \n"
   ]
  },
  {
   "cell_type": "markdown",
   "id": "58d7248b",
   "metadata": {},
   "source": [
    "<div style=\"border: 1px solid RGB(0,150,250);\" >\n",
    "<h3 style=\"margin: auto; padding: 20px; color: RGB(0,150,250); \">3.11 - Exemple de la Thaïlande pour le Manioc</h3>\n",
    "</div>"
   ]
  },
  {
   "cell_type": "code",
   "execution_count": null,
   "id": "ec9ca912",
   "metadata": {},
   "outputs": [],
   "source": [
    "#création d'un dataframe avec uniquement la Thaïlande \n"
   ]
  },
  {
   "cell_type": "code",
   "execution_count": null,
   "id": "85693912",
   "metadata": {},
   "outputs": [],
   "source": [
    "#Calcul de la sous nutrition en Thaïlande\n"
   ]
  },
  {
   "cell_type": "code",
   "execution_count": null,
   "id": "f19cd96e",
   "metadata": {},
   "outputs": [],
   "source": [
    "# On calcule la proportion exportée en fonction de la proportion\n"
   ]
  },
  {
   "cell_type": "markdown",
   "id": "7de4e914",
   "metadata": {},
   "source": [
    "<div style=\"background-color: RGB(0,150,250);\" >\n",
    "<h2 style=\"margin: auto; padding: 20px; color:#fff; \">Etape 6 - Analyse complémentaires</h2>\n",
    "</div>"
   ]
  },
  {
   "cell_type": "code",
   "execution_count": null,
   "id": "e42062e9",
   "metadata": {},
   "outputs": [],
   "source": [
    "#ajouter en dessous toutes les analyses complémtaires"
   ]
  }
 ],
 "metadata": {
  "kernelspec": {
   "display_name": "venv",
   "language": "python",
   "name": "python3"
  },
  "language_info": {
   "codemirror_mode": {
    "name": "ipython",
    "version": 3
   },
   "file_extension": ".py",
   "mimetype": "text/x-python",
   "name": "python",
   "nbconvert_exporter": "python",
   "pygments_lexer": "ipython3",
   "version": "3.12.3"
  }
 },
 "nbformat": 4,
 "nbformat_minor": 5
}
